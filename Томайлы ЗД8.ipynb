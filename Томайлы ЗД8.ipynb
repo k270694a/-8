{
 "cells": [
  {
   "cell_type": "code",
   "execution_count": 7,
   "id": "48379580-5de0-44b7-8846-7122ccf866a7",
   "metadata": {},
   "outputs": [
    {
     "name": "stdout",
     "output_type": "stream",
     "text": [
      "Brl  17.4111\n",
      "Eur  109.0126\n",
      "Usd  103.4305\n",
      "Cny  14.0096\n",
      "Maximum =  EUR\n"
     ]
    }
   ],
   "source": [
    "import requests\n",
    "\n",
    "class Rate:\n",
    "\n",
    "    def __init__(self, format_='value'):\n",
    "        self.format = format_\n",
    "    \n",
    "    def exchange_rates(self):\n",
    "        self.r = requests.get('https://www.cbr-xml-daily.ru/daily_json.js')\n",
    "        return self.r.json()['Valute']\n",
    "    \n",
    "    def make_format(self, currency):\n",
    "        response = self.exchange_rates()\n",
    "        \n",
    "        if currency in response:\n",
    "            if self.format == 'full':\n",
    "                return response[currency]\n",
    "            \n",
    "            if self.format == 'value':\n",
    "                return response[currency]['Value']\n",
    "        \n",
    "        return 'Error'\n",
    "    \n",
    "    def eur(self):\n",
    "        return self.make_format('EUR')\n",
    "    def usd(self):\n",
    "        return self.make_format('USD')\n",
    "    def cny(self):\n",
    "        return self.make_format('CNY')   \n",
    "    def brl(self):\n",
    "        return self.make_format('BRL')\n",
    "    def max(self):\n",
    "        \n",
    "        x = self.brl()# 14.1581\n",
    "        y = self.eur()# 88.1397\n",
    "        z = self.usd()\n",
    "        m = self.cny()\n",
    "        if max(x,y,z,m)==x:\n",
    "            return \"Brl\"\n",
    "        elif max(x,y,z,m)==y:\n",
    "            return \"EUR\"\n",
    "        elif max(x,y,z,m)==z:\n",
    "            return \"USD\"\n",
    "        else:\n",
    "            return \"CNY\"\n",
    "r = Rate(format_='value')\n",
    "\n",
    "x = r.brl()# 14.1581\n",
    "y = r.eur()# 88.1397\n",
    "z = r.usd()\n",
    "m = r.cny()\n",
    "Max = r.max()\n",
    "print(\"Brl \",x)  \n",
    "print(\"Eur \",y)\n",
    "print(\"Usd \",z)\n",
    "print(\"Cny \",m)\n",
    "print(\"Maximum = \",Max)"
   ]
  },
  {
   "cell_type": "code",
   "execution_count": null,
   "id": "4e523494-b5b6-4f43-83a4-d532c3f423b8",
   "metadata": {},
   "outputs": [],
   "source": []
  }
 ],
 "metadata": {
  "kernelspec": {
   "display_name": "Python 3 (ipykernel)",
   "language": "python",
   "name": "python3"
  },
  "language_info": {
   "codemirror_mode": {
    "name": "ipython",
    "version": 3
   },
   "file_extension": ".py",
   "mimetype": "text/x-python",
   "name": "python",
   "nbconvert_exporter": "python",
   "pygments_lexer": "ipython3",
   "version": "3.12.7"
  }
 },
 "nbformat": 4,
 "nbformat_minor": 5
}
